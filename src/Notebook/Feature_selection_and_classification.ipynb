{
 "cells": [
  {
   "cell_type": "markdown",
   "metadata": {},
   "source": [
    "# Performing Classification after K-means Clustering "
   ]
  },
  {
   "cell_type": "code",
   "execution_count": 1,
   "metadata": {},
   "outputs": [],
   "source": [
    "import pandas as pd\n",
    "import numpy as np\n",
    "import matplotlib.pyplot as plt\n",
    "import seaborn as sns \n",
    "from warnings import filterwarnings \n",
    "filterwarnings('ignore')"
   ]
  },
  {
   "cell_type": "code",
   "execution_count": 2,
   "metadata": {},
   "outputs": [],
   "source": [
    "df=pd.read_csv(r'C:\\Users\\Anurag\\Desktop\\Machine learning Project\\src\\Notebook\\data\\clustered_data.csv')"
   ]
  },
  {
   "cell_type": "code",
   "execution_count": 3,
   "metadata": {},
   "outputs": [
    {
     "data": {
      "text/html": [
       "<div>\n",
       "<style scoped>\n",
       "    .dataframe tbody tr th:only-of-type {\n",
       "        vertical-align: middle;\n",
       "    }\n",
       "\n",
       "    .dataframe tbody tr th {\n",
       "        vertical-align: top;\n",
       "    }\n",
       "\n",
       "    .dataframe thead th {\n",
       "        text-align: right;\n",
       "    }\n",
       "</style>\n",
       "<table border=\"1\" class=\"dataframe\">\n",
       "  <thead>\n",
       "    <tr style=\"text-align: right;\">\n",
       "      <th></th>\n",
       "      <th>Age</th>\n",
       "      <th>Education</th>\n",
       "      <th>Marital Status</th>\n",
       "      <th>Parental Status</th>\n",
       "      <th>Children</th>\n",
       "      <th>Income</th>\n",
       "      <th>Total_Spending</th>\n",
       "      <th>Days_as_Customer</th>\n",
       "      <th>Recency</th>\n",
       "      <th>Wines</th>\n",
       "      <th>...</th>\n",
       "      <th>Fish</th>\n",
       "      <th>Sweets</th>\n",
       "      <th>Gold</th>\n",
       "      <th>Web</th>\n",
       "      <th>Catalog</th>\n",
       "      <th>Store</th>\n",
       "      <th>Discount Purchases</th>\n",
       "      <th>Total Promo</th>\n",
       "      <th>NumWebVisitsMonth</th>\n",
       "      <th>cluster</th>\n",
       "    </tr>\n",
       "  </thead>\n",
       "  <tbody>\n",
       "    <tr>\n",
       "      <th>0</th>\n",
       "      <td>18</td>\n",
       "      <td>2</td>\n",
       "      <td>0</td>\n",
       "      <td>0</td>\n",
       "      <td>0</td>\n",
       "      <td>-13587.75</td>\n",
       "      <td>-1396.375</td>\n",
       "      <td>3534.375</td>\n",
       "      <td>-51</td>\n",
       "      <td>-697</td>\n",
       "      <td>...</td>\n",
       "      <td>-67.5</td>\n",
       "      <td>-47</td>\n",
       "      <td>-61.5</td>\n",
       "      <td>8</td>\n",
       "      <td>10</td>\n",
       "      <td>4</td>\n",
       "      <td>3</td>\n",
       "      <td>0</td>\n",
       "      <td>7</td>\n",
       "      <td>1</td>\n",
       "    </tr>\n",
       "    <tr>\n",
       "      <th>1</th>\n",
       "      <td>18</td>\n",
       "      <td>2</td>\n",
       "      <td>0</td>\n",
       "      <td>1</td>\n",
       "      <td>2</td>\n",
       "      <td>-13587.75</td>\n",
       "      <td>-1396.375</td>\n",
       "      <td>3534.375</td>\n",
       "      <td>-51</td>\n",
       "      <td>-697</td>\n",
       "      <td>...</td>\n",
       "      <td>-67.5</td>\n",
       "      <td>-47</td>\n",
       "      <td>-61.5</td>\n",
       "      <td>1</td>\n",
       "      <td>1</td>\n",
       "      <td>2</td>\n",
       "      <td>2</td>\n",
       "      <td>0</td>\n",
       "      <td>5</td>\n",
       "      <td>0</td>\n",
       "    </tr>\n",
       "    <tr>\n",
       "      <th>2</th>\n",
       "      <td>18</td>\n",
       "      <td>2</td>\n",
       "      <td>1</td>\n",
       "      <td>0</td>\n",
       "      <td>0</td>\n",
       "      <td>-13587.75</td>\n",
       "      <td>-1396.375</td>\n",
       "      <td>3534.375</td>\n",
       "      <td>-51</td>\n",
       "      <td>-697</td>\n",
       "      <td>...</td>\n",
       "      <td>-67.5</td>\n",
       "      <td>-47</td>\n",
       "      <td>-61.5</td>\n",
       "      <td>8</td>\n",
       "      <td>2</td>\n",
       "      <td>10</td>\n",
       "      <td>1</td>\n",
       "      <td>0</td>\n",
       "      <td>4</td>\n",
       "      <td>1</td>\n",
       "    </tr>\n",
       "    <tr>\n",
       "      <th>3</th>\n",
       "      <td>18</td>\n",
       "      <td>2</td>\n",
       "      <td>1</td>\n",
       "      <td>1</td>\n",
       "      <td>1</td>\n",
       "      <td>-13587.75</td>\n",
       "      <td>-1396.375</td>\n",
       "      <td>3534.375</td>\n",
       "      <td>-51</td>\n",
       "      <td>-697</td>\n",
       "      <td>...</td>\n",
       "      <td>-67.5</td>\n",
       "      <td>-47</td>\n",
       "      <td>-61.5</td>\n",
       "      <td>2</td>\n",
       "      <td>0</td>\n",
       "      <td>4</td>\n",
       "      <td>2</td>\n",
       "      <td>0</td>\n",
       "      <td>6</td>\n",
       "      <td>0</td>\n",
       "    </tr>\n",
       "    <tr>\n",
       "      <th>4</th>\n",
       "      <td>18</td>\n",
       "      <td>4</td>\n",
       "      <td>1</td>\n",
       "      <td>1</td>\n",
       "      <td>1</td>\n",
       "      <td>-13587.75</td>\n",
       "      <td>-1396.375</td>\n",
       "      <td>3534.375</td>\n",
       "      <td>-51</td>\n",
       "      <td>-697</td>\n",
       "      <td>...</td>\n",
       "      <td>-67.5</td>\n",
       "      <td>-47</td>\n",
       "      <td>-61.5</td>\n",
       "      <td>5</td>\n",
       "      <td>3</td>\n",
       "      <td>6</td>\n",
       "      <td>5</td>\n",
       "      <td>0</td>\n",
       "      <td>5</td>\n",
       "      <td>1</td>\n",
       "    </tr>\n",
       "  </tbody>\n",
       "</table>\n",
       "<p>5 rows × 22 columns</p>\n",
       "</div>"
      ],
      "text/plain": [
       "   Age  Education  Marital Status  Parental Status  Children    Income  \\\n",
       "0   18          2               0                0         0 -13587.75   \n",
       "1   18          2               0                1         2 -13587.75   \n",
       "2   18          2               1                0         0 -13587.75   \n",
       "3   18          2               1                1         1 -13587.75   \n",
       "4   18          4               1                1         1 -13587.75   \n",
       "\n",
       "   Total_Spending  Days_as_Customer  Recency  Wines  ...  Fish  Sweets  Gold  \\\n",
       "0       -1396.375          3534.375      -51   -697  ... -67.5     -47 -61.5   \n",
       "1       -1396.375          3534.375      -51   -697  ... -67.5     -47 -61.5   \n",
       "2       -1396.375          3534.375      -51   -697  ... -67.5     -47 -61.5   \n",
       "3       -1396.375          3534.375      -51   -697  ... -67.5     -47 -61.5   \n",
       "4       -1396.375          3534.375      -51   -697  ... -67.5     -47 -61.5   \n",
       "\n",
       "   Web  Catalog  Store  Discount Purchases  Total Promo  NumWebVisitsMonth  \\\n",
       "0    8       10      4                   3            0                  7   \n",
       "1    1        1      2                   2            0                  5   \n",
       "2    8        2     10                   1            0                  4   \n",
       "3    2        0      4                   2            0                  6   \n",
       "4    5        3      6                   5            0                  5   \n",
       "\n",
       "   cluster  \n",
       "0        1  \n",
       "1        0  \n",
       "2        1  \n",
       "3        0  \n",
       "4        1  \n",
       "\n",
       "[5 rows x 22 columns]"
      ]
     },
     "execution_count": 3,
     "metadata": {},
     "output_type": "execute_result"
    }
   ],
   "source": [
    "df.head()"
   ]
  },
  {
   "cell_type": "code",
   "execution_count": 4,
   "metadata": {},
   "outputs": [],
   "source": [
    "from sklearn.model_selection import train_test_split \n",
    "x=df.drop('cluster',axis=1)\n",
    "y=df['cluster']"
   ]
  },
  {
   "cell_type": "markdown",
   "metadata": {},
   "source": [
    "## selecting the best model "
   ]
  },
  {
   "cell_type": "code",
   "execution_count": 12,
   "metadata": {},
   "outputs": [],
   "source": [
    "from sklearn.linear_model import LogisticRegression\n",
    "from sklearn.ensemble import RandomForestClassifier, AdaBoostClassifier, GradientBoostingClassifier\n",
    "from sklearn.neighbors import KNeighborsClassifier\n",
    "from sklearn.tree import DecisionTreeClassifier\n",
    "from sklearn.svm import SVC\n",
    "from sklearn.metrics import accuracy_score, classification_report,ConfusionMatrixDisplay, \\\n",
    "                            precision_score, recall_score, f1_score, roc_auc_score,roc_curve,confusion_matrix\n",
    "from xgboost import XGBClassifier\n",
    "from sklearn import metrics \n",
    "\n",
    "\n",
    "\n",
    "models={\n",
    "    \"Logistic Regression\":LogisticRegression(),\n",
    "    \"Random Forest\":RandomForestClassifier(),\n",
    "    \"AdaBoost\":AdaBoostClassifier(),\n",
    "    \"Gradient Boosting\":GradientBoostingClassifier(),\n",
    "    \"KNN\":KNeighborsClassifier(),\n",
    "    \"Decision Tree\":DecisionTreeClassifier(),\n",
    "    \"SVM\":SVC(),\n",
    "    \"XGBoost\":XGBClassifier(),\n",
    "\n",
    "}"
   ]
  },
  {
   "cell_type": "markdown",
   "metadata": {},
   "source": [
    "creating general function that will evaluate each model "
   ]
  },
  {
   "cell_type": "code",
   "execution_count": null,
   "metadata": {},
   "outputs": [],
   "source": [
    "import pandas as pd\n",
    "from sklearn.model_selection import train_test_split\n",
    "from sklearn.metrics import accuracy_score\n",
    "\n",
    "def evaluate(x, y, models):\n",
    "    x_train, x_test, y_train, y_test = train_test_split(x, y, test_size=0.2, random_state=42)\n",
    "    model_list = []\n",
    "    model_scores = []  \n",
    "\n",
    "    for model_name, model in models.items():\n",
    "        model.fit(x_train, y_train)  \n",
    "\n",
    "        \n",
    "        y_pred = model.predict(x_test)\n",
    "\n",
    "        score = accuracy_score(y_test, y_pred)  \n",
    "\n",
    "        print(f'---- Score for {model_name} ----')\n",
    "        print(f\"{score}\\n\")\n",
    "\n",
    "        model_list.append(model_name)\n",
    "        model_scores.append(score)  \n",
    "\n",
    "    \n",
    "    report = pd.DataFrame({'Model_name': model_list, 'Score': model_scores})\n",
    "    return report\n"
   ]
  },
  {
   "cell_type": "code",
   "execution_count": 26,
   "metadata": {},
   "outputs": [
    {
     "name": "stdout",
     "output_type": "stream",
     "text": [
      "---- Score for Logistic Regression ----\n",
      "0.9866071428571429\n",
      "\n",
      "---- Score for Random Forest ----\n",
      "0.9709821428571429\n",
      "\n",
      "---- Score for AdaBoost ----\n",
      "0.9776785714285714\n",
      "\n",
      "---- Score for Gradient Boosting ----\n",
      "0.9709821428571429\n",
      "\n",
      "---- Score for KNN ----\n",
      "0.9709821428571429\n",
      "\n",
      "---- Score for Decision Tree ----\n",
      "0.9665178571428571\n",
      "\n",
      "---- Score for SVM ----\n",
      "0.49776785714285715\n",
      "\n",
      "---- Score for XGBoost ----\n",
      "0.9776785714285714\n",
      "\n"
     ]
    }
   ],
   "source": [
    "report=evaluate(x,y,models)"
   ]
  },
  {
   "cell_type": "markdown",
   "metadata": {},
   "source": [
    "logistic regression is having the highest score so we will do logistic regression "
   ]
  },
  {
   "cell_type": "code",
   "execution_count": 27,
   "metadata": {},
   "outputs": [],
   "source": [
    "x_train, x_test, y_train, y_test = train_test_split(x, y, test_size=0.2, random_state=42)"
   ]
  },
  {
   "cell_type": "markdown",
   "metadata": {},
   "source": [
    "Lets do hyperparameter tuning "
   ]
  },
  {
   "cell_type": "code",
   "execution_count": 29,
   "metadata": {},
   "outputs": [
    {
     "name": "stdout",
     "output_type": "stream",
     "text": [
      "Best Hyperparameters: {'solver': 'newton-cg', 'multi_class': 'multinomial', 'max_iter': 200, 'C': np.float64(1000.0)}\n"
     ]
    }
   ],
   "source": [
    "param_dist = {\n",
    "    'solver': ['newton-cg', 'lbfgs', 'liblinear', 'sag', 'saga'],\n",
    "    'max_iter': np.linspace(100, 500, 5).astype(int).tolist(),  # [100, 200, 300, 400, 500]\n",
    "    'multi_class': ['ovr', 'multinomial'],\n",
    "    'C': np.logspace(-3, 3, 7)  \n",
    "}\n",
    "\n",
    "logreg = LogisticRegression()\n",
    "\n",
    "from sklearn.model_selection import RandomizedSearchCV\n",
    "logreg_random = RandomizedSearchCV(\n",
    "    estimator=logreg, \n",
    "    param_distributions=param_dist, \n",
    "    n_iter=20, \n",
    "    cv=10, \n",
    "    scoring='accuracy',  \n",
    "    random_state=42, \n",
    "    n_jobs=1\n",
    ")\n",
    "\n",
    "logreg_random.fit(x_train, y_train)\n",
    "\n",
    "print(\"Best Hyperparameters:\", logreg_random.best_params_)"
   ]
  },
  {
   "cell_type": "code",
   "execution_count": 30,
   "metadata": {},
   "outputs": [
    {
     "name": "stdout",
     "output_type": "stream",
     "text": [
      "Final Model Accuracy: 0.9933\n"
     ]
    }
   ],
   "source": [
    "best_logreg = LogisticRegression(\n",
    "    solver='newton-cg', \n",
    "    multi_class='multinomial', \n",
    "    max_iter=200, \n",
    "    C=1000.0\n",
    ")\n",
    "\n",
    "best_logreg.fit(x_train, y_train)\n",
    "y_pred = best_logreg.predict(x_test)\n",
    "\n",
    "\n",
    "from sklearn.metrics import accuracy_score\n",
    "accuracy = accuracy_score(y_test, y_pred)\n",
    "print(f\"Final Model Accuracy: {accuracy:.4f}\")"
   ]
  },
  {
   "cell_type": "code",
   "execution_count": 32,
   "metadata": {},
   "outputs": [
    {
     "name": "stdout",
     "output_type": "stream",
     "text": [
      "Logistic Regression\n",
      "Accuracy Score value: 0.9933\n",
      "              precision    recall  f1-score   support\n",
      "\n",
      "           0     1.0000    0.9865    0.9932       223\n",
      "           1     0.9868    1.0000    0.9934       225\n",
      "\n",
      "    accuracy                         0.9933       448\n",
      "   macro avg     0.9934    0.9933    0.9933       448\n",
      "weighted avg     0.9934    0.9933    0.9933       448\n",
      "\n"
     ]
    }
   ],
   "source": [
    "\n",
    "report = classification_report(y_test, y_pred, digits=4)\n",
    "\n",
    "# Print Report\n",
    "print(\"Logistic Regression\")\n",
    "print(f\"Accuracy Score value: {accuracy:.4f}\")\n",
    "print(report)\n"
   ]
  },
  {
   "cell_type": "code",
   "execution_count": null,
   "metadata": {},
   "outputs": [],
   "source": []
  }
 ],
 "metadata": {
  "kernelspec": {
   "display_name": "Python 3",
   "language": "python",
   "name": "python3"
  },
  "language_info": {
   "codemirror_mode": {
    "name": "ipython",
    "version": 3
   },
   "file_extension": ".py",
   "mimetype": "text/x-python",
   "name": "python",
   "nbconvert_exporter": "python",
   "pygments_lexer": "ipython3",
   "version": "3.13.1"
  }
 },
 "nbformat": 4,
 "nbformat_minor": 2
}
